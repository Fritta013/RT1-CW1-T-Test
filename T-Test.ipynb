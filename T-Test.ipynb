{
 "cells": [
  {
   "cell_type": "markdown",
   "id": "deb5855c",
   "metadata": {},
   "source": [
    "# Introduction # \n",
    "\n",
    "This is a simple, portable robot simulator developed by Student Robotics. Some of the arenas and the exercises have been modified for the Research Track I first assignment. In this configuration, the robot should arrange the silver and golden tokens such that all silver tokens and placed next to the golden ones. For this assignment, we have two different sets of codes for the completion of the same project. The goal is to analyze and test which of the code performs better in terms of time/efficiency. We are checking which one of the robots can pick the tokens faster over time. To do this, some changes were added to the arena environment to make it more complex. More tokens were added to the arena, now in total 20 tokens instead of 12. Adding to that, the tokens are now placed more randomly meaning the golden or silver tokens are randomly places in the outer and inner circle. Please refer to the image below to have a better idea of the changes added to the arena: \n",
    "\n",
    "![New arena](newarena.png) "
   ]
  },
  {
   "cell_type": "markdown",
   "id": "74141fa0",
   "metadata": {},
   "source": [
    "As mentioned before, two sets of codes were taken and compared. The two robots start in the same arena as shown in the image above. Their goals are to join 6 silver tokens to the other 6 golden tokens. The test is to verify which one of the robot is faster/more efficient in collecting the tokens over time (from 0 to 200 seconds). The data was collected and organized in the table below. \n",
    "\n",
    "![Result table](testtable.png) \n"
   ]
  },
  {
   "cell_type": "markdown",
   "id": "cb853864",
   "metadata": {},
   "source": [
    "# Paired T-Test #\n",
    "\n",
    "It is not enough to deduct that ines_robot is more efficient because it was able to successfully organize 5 pairs of tokens at 200s whereas aicha_robot was only able to reach 3 pairs at 200s. Therefore, it is necessary to conduct a paired t-test. \n",
    "\n",
    "A paired t-test is an appropriate statistical test for this project because it compares the means of two related samples taken from the same subjects. In other words, I have collected measurements of the number of boxes picked up by robot_Ines and robot_Aicha over time in the same arena. The t-test is also a right choice looking at the small size of the sample which is only 20 samples. The end-goal is to determine if there is a significant difference in performance between the two robots, therefore the hypothesis are as follows: \n",
    "1. Null hypothesis (H0): There is no difference between the \"Ines-robot\" and \"Aicha-robot\" measurements over time.\n",
    "2. Alternative hypothesis (Ha): The \"Ines-robot\" measurements are consistently different could be higher or lower than the \"Aicha-robot\" measurements over time."
   ]
  },
  {
   "cell_type": "code",
   "execution_count": 14,
   "id": "24ae457c",
   "metadata": {},
   "outputs": [],
   "source": [
    "#importing required libraries \n",
    "import pandas as pd\n",
    "from scipy import stats\n",
    "import numpy as np\n",
    "from scipy.stats import t\n",
    "from scipy.stats import chi2\n",
    "import matplotlib.pyplot as plt"
   ]
  },
  {
   "cell_type": "markdown",
   "id": "c49b7de3",
   "metadata": {},
   "source": [
    "Transfering the collected data from the excel table to here "
   ]
  },
  {
   "cell_type": "code",
   "execution_count": 15,
   "id": "4d642fde",
   "metadata": {},
   "outputs": [],
   "source": [
    "data = {\n",
    "    'Time': [10, 20, 30, 40, 50, 60, 70, 80, 90, 100, 110, 120, 130, 140, 150, 160, 170, 180, 190, 200],\n",
    "    'robot_Ines': [0, 1, 2, 2, 2, 3, 3, 3, 3, 3, 4, 4, 4, 4, 4, 4, 5, 5, 5, 5],\n",
    "    'robot_Aicha': [0, 0, 0, 0, 0, 0, 1, 1, 1, 1, 1, 2, 2, 2, 2, 2, 3, 3, 3, 3]\n",
    "}\n",
    "\n",
    "df = pd.DataFrame(data)\n",
    "\n"
   ]
  },
  {
   "cell_type": "markdown",
   "id": "c9a34ed2",
   "metadata": {},
   "source": [
    "### Calculating mean ###\n"
   ]
  },
  {
   "cell_type": "code",
   "execution_count": 16,
   "id": "172db44a",
   "metadata": {},
   "outputs": [
    {
     "name": "stdout",
     "output_type": "stream",
     "text": [
      "Mean (robot_Ines): 3.3\n",
      "Mean (robot_Aicha): 1.35\n"
     ]
    }
   ],
   "source": [
    "mean_ines = df['robot_Ines'].mean()\n",
    "mean_aicha = df['robot_Aicha'].mean()\n",
    "\n",
    "print('Mean (robot_Ines):', mean_ines)\n",
    "print('Mean (robot_Aicha):', mean_aicha)\n"
   ]
  },
  {
   "cell_type": "markdown",
   "id": "f6b58767",
   "metadata": {},
   "source": [
    "The above mean that the robot_Aicha picked up approximately 1.35 boxes on average and robot_ines picked up approximately 3.3 boxes on average. Looking at the resultant mean, it is deductible that on average, robot_Ines picked up a higher number of boxes compared to robot_Aicha over time. Therefore, the results suggest that robot_Ines performed better or faster. \n",
    "\n",
    "IMPORTANT however, it's important to note that this interpretation is based solely on the mean values and does not take into account the statistical significance or variability of the measurements. For this reason, further test are conducted to reach a conclusion on the performance of the two robots. "
   ]
  },
  {
   "cell_type": "code",
   "execution_count": 17,
   "id": "ee6bdaeb",
   "metadata": {},
   "outputs": [],
   "source": [
    "df = pd.DataFrame(data)\n"
   ]
  },
  {
   "cell_type": "markdown",
   "id": "46341c20",
   "metadata": {},
   "source": [
    "Note: the confidence level is usually 95% in engineering and scientific research and that is the value taken in this test. "
   ]
  },
  {
   "cell_type": "code",
   "execution_count": 18,
   "id": "4e9a05b8",
   "metadata": {},
   "outputs": [
    {
     "name": "stdout",
     "output_type": "stream",
     "text": [
      "95% Confidence Interval for the Mean (robot_Ines): (2.6539937696601483, 3.9460062303398513)\n",
      "95% Confidence Interval for the Mean (robot_Aicha): (0.8180042418383868, 1.8819957581616134)\n"
     ]
    }
   ],
   "source": [
    "confidence_level = 0.95\n",
    "degrees_of_freedom = len(df) - 1\n",
    "\n",
    "ci_mean_ines = t.interval(confidence_level, degrees_of_freedom, loc=mean_ines, scale=df['robot_Ines'].std() / np.sqrt(len(df['robot_Ines'])))\n",
    "ci_mean_aicha = t.interval(confidence_level, degrees_of_freedom, loc=mean_aicha, scale=df['robot_Aicha'].std() / np.sqrt(len(df['robot_Aicha'])))\n",
    "\n",
    "print('95% Confidence Interval for the Mean (robot_Ines):', ci_mean_ines)\n",
    "print('95% Confidence Interval for the Mean (robot_Aicha):', ci_mean_aicha)\n"
   ]
  },
  {
   "cell_type": "markdown",
   "id": "907e2d63",
   "metadata": {},
   "source": [
    "Looking at these number, then we can state with 95% confidence and as also confirmed from the previous mean result, this reconfirms that on average robot_Ines is more efficient/faster than robot_Aicha in picking up boxes over time. "
   ]
  },
  {
   "cell_type": "markdown",
   "id": "032d9d53",
   "metadata": {},
   "source": [
    "Calculate Standard Deviation"
   ]
  },
  {
   "cell_type": "code",
   "execution_count": 19,
   "id": "b7852aee",
   "metadata": {},
   "outputs": [
    {
     "name": "stdout",
     "output_type": "stream",
     "text": [
      "Standard Deviation (robot_Ines): 1.3803127029389888\n",
      "Standard Deviation (robot_Aicha): 1.1367080817685318\n"
     ]
    }
   ],
   "source": [
    "std_ines = df['robot_Ines'].std()\n",
    "std_aicha = df['robot_Aicha'].std()\n",
    "\n",
    "print('Standard Deviation (robot_Ines):', std_ines)\n",
    "print('Standard Deviation (robot_Aicha):', std_aicha)\n"
   ]
  },
  {
   "cell_type": "markdown",
   "id": "84052217",
   "metadata": {},
   "source": [
    "Looking at the obtained result, for robot_Ines, the measurements of the number of boxes picked up tend to deviate by approximately 1.38 boxes on average. Thus, this is moderate level of variability around the mean. Similarly, for robot_Aicha, the measurements of the number of boxes picked up tend to deviate by approximately 1.36 boxes on average. Thus, this is moderate level of variability around the mean. When comparing the two, then we can say that robot_Ines show a slightly larger spread compared to robot_Aicha."
   ]
  },
  {
   "cell_type": "code",
   "execution_count": 20,
   "id": "11bf5622",
   "metadata": {},
   "outputs": [
    {
     "name": "stdout",
     "output_type": "stream",
     "text": [
      "95% Confidence Interval for the Standard Deviation (robot_Ines): [1.04971455 2.01604558]\n",
      "95% Confidence Interval for the Standard Deviation (robot_Aicha): [0.86445558 1.66024358]\n"
     ]
    }
   ],
   "source": [
    "confidence_level = 0.95\n",
    "degrees_of_freedom = len(df) - 1\n",
    "\n",
    "ci_std_ines = np.sqrt((len(df['robot_Ines']) - 1) * std_ines**2 / chi2.interval(confidence_level, degrees_of_freedom)[::-1])\n",
    "ci_std_aicha = np.sqrt((len(df['robot_Aicha']) - 1) * std_aicha**2 / chi2.interval(confidence_level, degrees_of_freedom)[::-1])\n",
    "\n",
    "print('95% Confidence Interval for the Standard Deviation (robot_Ines):', ci_std_ines)\n",
    "print('95% Confidence Interval for the Standard Deviation (robot_Aicha):', ci_std_aicha)\n"
   ]
  },
  {
   "cell_type": "markdown",
   "id": "e3aa93b9",
   "metadata": {},
   "source": [
    "Similarly to the results obtained in the previous cell, it also shows that robot_Ines show a slightly larger spread compared to robot_Aicha with a confidence of 95%"
   ]
  },
  {
   "cell_type": "code",
   "execution_count": 21,
   "id": "a6326e14",
   "metadata": {},
   "outputs": [],
   "source": [
    "result = stats.ttest_rel(df['robot_Ines'], df['robot_Aicha'])\n"
   ]
  },
  {
   "cell_type": "code",
   "execution_count": 22,
   "id": "5df1602e",
   "metadata": {},
   "outputs": [
    {
     "name": "stdout",
     "output_type": "stream",
     "text": [
      "Below is the paired t-test result:\n",
      "t-statistic: 14.418962335069185\n",
      "p-value: 1.1004817358368142e-11\n"
     ]
    }
   ],
   "source": [
    "print('Below is the paired t-test result:')\n",
    "print('t-statistic:', result.statistic)\n",
    "print('p-value:', result.pvalue)\n"
   ]
  },
  {
   "cell_type": "markdown",
   "id": "52e2f981",
   "metadata": {},
   "source": [
    "### 2 Tailed T-test ###"
   ]
  },
  {
   "cell_type": "markdown",
   "id": "9591e5f1",
   "metadata": {},
   "source": [
    "The 2 tailed t-test is used to either reject or accept the null hypothesis set at the beginning. In other words, the 2 tailed t-test can also suggest whether the performance of the two robots is the same (null hypothesis) or if it is different (Alternative hypothesis). \n",
    "\n",
    "==> The P-value, 1.1004817358368142e-11, is very small near 0 therefore the initial assumption null hypothesis is true must be incorrect. We reject the null hypothesis H0: There is no difference between the \"Ines-robot\" and \"Aicha-robot\" measurements over time. Additionally, the positive t-statistic value of 14.42 indicates that the mean number of boxes picked up by robot_Ines is larger than the mean number of boxes picked up by robot_Aicha which also confirms the Alternative hypothesis Ha: The \"Ines-robot\" measurements are consistently different could be higher or lower than the \"Aicha-robot\" measurements over time."
   ]
  },
  {
   "cell_type": "markdown",
   "id": "c1aa3fe4",
   "metadata": {},
   "source": [
    "### 1 Tailed T-test ###"
   ]
  },
  {
   "cell_type": "markdown",
   "id": "c2064d54",
   "metadata": {},
   "source": [
    "Contrary to the 2 tailed t-test, the 1 tailed test is helpful to understand which code performs better.\n",
    "==> The P-value, 1.1004817358368142e-11, is less than the significance level $\\alpha$= 0.05 therefore we can conclude that robot_ines outperforms robot_Aicha. These conclusion can also be well interpreted from the line plot below. "
   ]
  },
  {
   "cell_type": "markdown",
   "id": "13f8d890",
   "metadata": {},
   "source": [
    "### Line Plot Display Data ###"
   ]
  },
  {
   "cell_type": "markdown",
   "id": "ce63cab9",
   "metadata": {},
   "source": [
    "Calculate the differences between robot_Ines and robot_Aicha:\n"
   ]
  },
  {
   "cell_type": "code",
   "execution_count": 23,
   "id": "4b48cbbe",
   "metadata": {},
   "outputs": [],
   "source": [
    "differences = df['robot_Ines'] - df['robot_Aicha']\n"
   ]
  },
  {
   "cell_type": "markdown",
   "id": "15f6a641",
   "metadata": {},
   "source": [
    "Line Plot"
   ]
  },
  {
   "cell_type": "code",
   "execution_count": 24,
   "id": "b33f25ad",
   "metadata": {},
   "outputs": [
    {
     "data": {
      "image/png": "[encoded data removed]",
      "text/plain": [
       "<Figure size 640x480 with 1 Axes>"
      ]
     },
     "metadata": {},
     "output_type": "display_data"
    }
   ],
   "source": [
    "plt.plot(df['Time'], df['robot_Ines'], label='robot_Ines')\n",
    "plt.plot(df['Time'], df['robot_Aicha'], label='robot_Aicha')\n",
    "plt.xlabel('Time')\n",
    "plt.ylabel('Performance')\n",
    "plt.title('Performance of robot_Ines and robot_Aicha over Time')\n",
    "plt.legend()\n",
    "plt.xticks(rotation=45)\n",
    "plt.show()\n"
   ]
  },
  {
   "cell_type": "markdown",
   "id": "1b479a17",
   "metadata": {},
   "source": [
    "The line plot above shows that the performance of robot_ines (blue line) was higher/above the performance of robot_aicha (orange line) during the whole period (0 to 200 seconds). This confirms the results deducted in the section earlier where it was stated that robot_Aicha and robot_Ines perform differently and we can even conclude that robot_ines outperforms robot_ines. "
   ]
  }
 ],
 "metadata": {
  "kernelspec": {
   "display_name": "Python 3 (ipykernel)",
   "language": "python",
   "name": "python3"
  },
  "language_info": {
   "codemirror_mode": {
    "name": "ipython",
    "version": 3
   },
   "file_extension": ".py",
   "mimetype": "text/x-python",
   "name": "python",
   "nbconvert_exporter": "python",
   "pygments_lexer": "ipython3",
   "version": "3.10.9"
  }
 },
 "nbformat": 4,
 "nbformat_minor": 5
}
